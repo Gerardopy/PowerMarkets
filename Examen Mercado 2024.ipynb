{
 "cells": [
  {
   "cell_type": "markdown",
   "metadata": {},
   "source": [
    "# Examen Mercados Eléctricos 2024"
   ]
  },
  {
   "cell_type": "markdown",
   "metadata": {},
   "source": [
    "Considere el sistema de alimentación de dos barras mostrado en la Figura. Los costos marginales de producción de los generadores conectados a las barras A y B vienen dado respectivamente por las siguientes expresiones:"
   ]
  },
  {
   "cell_type": "markdown",
   "metadata": {},
   "source": [
    "### Paquetes"
   ]
  },
  {
   "cell_type": "code",
   "execution_count": 4,
   "metadata": {},
   "outputs": [],
   "source": [
    "using DataFrames"
   ]
  },
  {
   "cell_type": "markdown",
   "metadata": {},
   "source": [
    "### Ingreso de Número de Cédula de Identidad"
   ]
  },
  {
   "cell_type": "code",
   "execution_count": 5,
   "metadata": {},
   "outputs": [
    {
     "data": {
      "text/plain": [
       "23000775"
      ]
     },
     "metadata": {},
     "output_type": "display_data"
    }
   ],
   "source": [
    "RUN = 23000775"
   ]
  },
  {
   "cell_type": "markdown",
   "metadata": {},
   "source": [
    "### Definición de Parametros de los Costos Marginales"
   ]
  },
  {
   "cell_type": "code",
   "execution_count": 6,
   "metadata": {},
   "outputs": [
    {
     "name": "stdout",
     "output_type": "stream",
     "text": [
      "El costo marginal del Generador A es 0+0.05*P_A [USD/MWh]\n",
      "\u001b[0mEl costo marginal del Generador B es 23+0.07*P_B [USD/MWh]"
     ]
    }
   ],
   "source": [
    "using LaTeXStrings, Latexify, Symbolics\n",
    "function separar_digitos(numero::Int)\n",
    "    # Convertir el número a cadena de caracteres\n",
    "    cadena = string(numero)\n",
    "    \n",
    "    # Convertir cada carácter en un número entero y almacenarlo en una lista\n",
    "    digitos = [parse(Int, c) for c in cadena]\n",
    "    \n",
    "    return digitos\n",
    "end\n",
    "\n",
    "VCI = separar_digitos(RUN)\n",
    "a0 = VCI[3]*10+VCI[4]\n",
    "a1 = VCI[length(VCI)]/100\n",
    "\n",
    "\n",
    "println(\"El costo marginal del Generador A es $a0+$a1*P_A [USD/MWh]\")\n",
    "\n",
    "b0 = VCI[1]*10+VCI[2]\n",
    "b1 = VCI[length(VCI)-1]/100\n",
    "printstyled(\"El costo marginal del Generador B es $b0+$b1*P_B [USD/MWh]\")\n",
    "\n"
   ]
  },
  {
   "cell_type": "markdown",
   "metadata": {},
   "source": [
    "### Definición de Parametros del problema"
   ]
  },
  {
   "attachments": {
    "image.png": {
     "image/png": "[encoded data removed]"
    }
   },
   "cell_type": "markdown",
   "metadata": {},
   "source": [
    "![image.png](attachment:image.png)"
   ]
  },
  {
   "cell_type": "code",
   "execution_count": 7,
   "metadata": {},
   "outputs": [
    {
     "data": {
      "text/plain": [
       "2-element Vector{String}:\n",
       " \"A\"\n",
       " \"B\""
      ]
     },
     "metadata": {},
     "output_type": "display_data"
    }
   ],
   "source": [
    "Buses = [\"A\"; \"B\"]"
   ]
  },
  {
   "cell_type": "code",
   "execution_count": 8,
   "metadata": {},
   "outputs": [
    {
     "data": {
      "text/html": [
       "<div><div style = \"float: left;\"><span>4×2 DataFrame</span></div><div style = \"clear: both;\"></div></div><div class = \"data-frame\" style = \"overflow-x: scroll;\"><table class = \"data-frame\" style = \"margin-bottom: 6px;\"><thead><tr class = \"header\"><th class = \"rowNumber\" style = \"font-weight: bold; text-align: right;\">Row</th><th style = \"text-align: left;\">name</th><th style = \"text-align: left;\">capacity</th></tr><tr class = \"subheader headerLastRow\"><th class = \"rowNumber\" style = \"font-weight: bold; text-align: right;\"></th><th title = \"String\" style = \"text-align: left;\">String</th><th title = \"Int64\" style = \"text-align: left;\">Int64</th></tr></thead><tbody><tr><td class = \"rowNumber\" style = \"font-weight: bold; text-align: right;\">1</td><td style = \"text-align: left;\">A</td><td style = \"text-align: right;\">99999</td></tr><tr><td class = \"rowNumber\" style = \"font-weight: bold; text-align: right;\">2</td><td style = \"text-align: left;\">B</td><td style = \"text-align: right;\">99999</td></tr><tr><td class = \"rowNumber\" style = \"font-weight: bold; text-align: right;\">3</td><td style = \"text-align: left;\">GF1</td><td style = \"text-align: right;\">99999</td></tr><tr><td class = \"rowNumber\" style = \"font-weight: bold; text-align: right;\">4</td><td style = \"text-align: left;\">GF2</td><td style = \"text-align: right;\">99999</td></tr></tbody></table></div>"
      ],
      "text/latex": [
       "\\begin{tabular}{r|cc}\n",
       "\t& name & capacity\\\\\n",
       "\t\\hline\n",
       "\t& String & Int64\\\\\n",
       "\t\\hline\n",
       "\t1 & A & 99999 \\\\\n",
       "\t2 & B & 99999 \\\\\n",
       "\t3 & GF1 & 99999 \\\\\n",
       "\t4 & GF2 & 99999 \\\\\n",
       "\\end{tabular}\n"
      ],
      "text/plain": [
       "\u001b[1m4×2 DataFrame\u001b[0m\n",
       "\u001b[1m Row \u001b[0m│\u001b[1m name   \u001b[0m\u001b[1m capacity \u001b[0m\n",
       "     │\u001b[90m String \u001b[0m\u001b[90m Int64    \u001b[0m\n",
       "─────┼──────────────────\n",
       "   1 │ A          99999\n",
       "   2 │ B          99999\n",
       "   3 │ GF1        99999\n",
       "   4 │ GF2        99999"
      ]
     },
     "metadata": {},
     "output_type": "display_data"
    }
   ],
   "source": [
    "generators = DataFrame(\n",
    "    name=[Buses; \"GF1\"; \"GF2\"],\n",
    "    capacity= [99999, 99999, 99999, 99999],\n",
    ")"
   ]
  },
  {
   "cell_type": "code",
   "execution_count": 9,
   "metadata": {},
   "outputs": [
    {
     "data": {
      "text/html": [
       "<div><div style = \"float: left;\"><span>1×3 DataFrame</span></div><div style = \"clear: both;\"></div></div><div class = \"data-frame\" style = \"overflow-x: scroll;\"><table class = \"data-frame\" style = \"margin-bottom: 6px;\"><thead><tr class = \"header\"><th class = \"rowNumber\" style = \"font-weight: bold; text-align: right;\">Row</th><th style = \"text-align: left;\">name</th><th style = \"text-align: left;\">capacity</th><th style = \"text-align: left;\">reactance</th></tr><tr class = \"subheader headerLastRow\"><th class = \"rowNumber\" style = \"font-weight: bold; text-align: right;\"></th><th title = \"String\" style = \"text-align: left;\">String</th><th title = \"Int64\" style = \"text-align: left;\">Int64</th><th title = \"Int64\" style = \"text-align: left;\">Int64</th></tr></thead><tbody><tr><td class = \"rowNumber\" style = \"font-weight: bold; text-align: right;\">1</td><td style = \"text-align: left;\">AB</td><td style = \"text-align: right;\">999999</td><td style = \"text-align: right;\">0</td></tr></tbody></table></div>"
      ],
      "text/latex": [
       "\\begin{tabular}{r|ccc}\n",
       "\t& name & capacity & reactance\\\\\n",
       "\t\\hline\n",
       "\t& String & Int64 & Int64\\\\\n",
       "\t\\hline\n",
       "\t1 & AB & 999999 & 0 \\\\\n",
       "\\end{tabular}\n"
      ],
      "text/plain": [
       "\u001b[1m1×3 DataFrame\u001b[0m\n",
       "\u001b[1m Row \u001b[0m│\u001b[1m name   \u001b[0m\u001b[1m capacity \u001b[0m\u001b[1m reactance \u001b[0m\n",
       "     │\u001b[90m String \u001b[0m\u001b[90m Int64    \u001b[0m\u001b[90m Int64     \u001b[0m\n",
       "─────┼─────────────────────────────\n",
       "   1 │ AB        999999          0"
      ]
     },
     "metadata": {},
     "output_type": "display_data"
    }
   ],
   "source": [
    "branches = DataFrame(name=[\"AB\"], capacity=[999999], reactance=[0])"
   ]
  },
  {
   "cell_type": "code",
   "execution_count": 10,
   "metadata": {},
   "outputs": [
    {
     "data": {
      "text/html": [
       "<div><div style = \"float: left;\"><span>2×2 DataFrame</span></div><div style = \"clear: both;\"></div></div><div class = \"data-frame\" style = \"overflow-x: scroll;\"><table class = \"data-frame\" style = \"margin-bottom: 6px;\"><thead><tr class = \"header\"><th class = \"rowNumber\" style = \"font-weight: bold; text-align: right;\">Row</th><th style = \"text-align: left;\">bus</th><th style = \"text-align: left;\">value</th></tr><tr class = \"subheader headerLastRow\"><th class = \"rowNumber\" style = \"font-weight: bold; text-align: right;\"></th><th title = \"String\" style = \"text-align: left;\">String</th><th title = \"Int64\" style = \"text-align: left;\">Int64</th></tr></thead><tbody><tr><td class = \"rowNumber\" style = \"font-weight: bold; text-align: right;\">1</td><td style = \"text-align: left;\">A</td><td style = \"text-align: right;\">2000</td></tr><tr><td class = \"rowNumber\" style = \"font-weight: bold; text-align: right;\">2</td><td style = \"text-align: left;\">B</td><td style = \"text-align: right;\">1000</td></tr></tbody></table></div>"
      ],
      "text/latex": [
       "\\begin{tabular}{r|cc}\n",
       "\t& bus & value\\\\\n",
       "\t\\hline\n",
       "\t& String & Int64\\\\\n",
       "\t\\hline\n",
       "\t1 & A & 2000 \\\\\n",
       "\t2 & B & 1000 \\\\\n",
       "\\end{tabular}\n"
      ],
      "text/plain": [
       "\u001b[1m2×2 DataFrame\u001b[0m\n",
       "\u001b[1m Row \u001b[0m│\u001b[1m bus    \u001b[0m\u001b[1m value \u001b[0m\n",
       "     │\u001b[90m String \u001b[0m\u001b[90m Int64 \u001b[0m\n",
       "─────┼───────────────\n",
       "   1 │ A        2000\n",
       "   2 │ B        1000"
      ]
     },
     "metadata": {},
     "output_type": "display_data"
    }
   ],
   "source": [
    "demand = DataFrame(\n",
    "    bus=Buses,\n",
    "    value=[2000, 1000],\n",
    ")\n"
   ]
  },
  {
   "cell_type": "markdown",
   "metadata": {},
   "source": [
    "## Selección de Casos"
   ]
  },
  {
   "cell_type": "code",
   "execution_count": 11,
   "metadata": {},
   "outputs": [
    {
     "data": {
      "text/plain": [
       "5"
      ]
     },
     "metadata": {},
     "output_type": "display_data"
    }
   ],
   "source": [
    "Caso = 5"
   ]
  },
  {
   "cell_type": "markdown",
   "metadata": {},
   "source": [
    "## Casos"
   ]
  },
  {
   "cell_type": "code",
   "execution_count": 12,
   "metadata": {},
   "outputs": [
    {
     "name": "stdout",
     "output_type": "stream",
     "text": [
      "[775, 2300, 99999, 99999]\n"
     ]
    }
   ],
   "source": [
    "if Caso == 1\n",
    "# Caso 1\n",
    "branches.capacity[1] = 0\n",
    "generators.capacity[1]= 999999\n",
    "generators.capacity[2]= 999999\n",
    "elseif Caso == 2\n",
    "# #Caso 2\n",
    "branches.capacity[1] = 999999\n",
    "elseif Caso==3\n",
    "# #Caso 3\n",
    "generators.capacity[2]= VCI[1]*1000+VCI[2]*100+VCI[3]*10+VCI[4]\n",
    "elseif Caso==4\n",
    "# #Caso 4\n",
    "generators.capacity[1]= VCI[length(VCI)-2]*100+VCI[length(VCI)-1]*10+VCI[length(VCI)]\n",
    "generators.capacity[2]= 999999\n",
    "elseif Caso==5\n",
    "# #Caso 5\n",
    "generators.capacity[2]= VCI[1]*1000+VCI[2]*100+VCI[3]*10+VCI[4]\n",
    "generators.capacity[1]= VCI[length(VCI)-2]*100+VCI[length(VCI)-1]*10+VCI[length(VCI)]\n",
    "branches.capacity[1]= VCI[1]*100+VCI[2]*10+VCI[3]\n",
    "end\n",
    "println(generators.capacity)"
   ]
  },
  {
   "cell_type": "markdown",
   "metadata": {},
   "source": [
    "## Formulación de optimización"
   ]
  },
  {
   "cell_type": "code",
   "execution_count": 13,
   "metadata": {},
   "outputs": [
    {
     "data": {
      "text/plain": [
       "1-dimensional DenseAxisArray{VariableRef,1,...} with index sets:\n",
       "    Dimension 1, [\"AB\"]\n",
       "And data, a 1-element Vector{VariableRef}:\n",
       " branch_flow[AB]"
      ]
     },
     "metadata": {},
     "output_type": "display_data"
    }
   ],
   "source": [
    "using JuMP\n",
    "using HiGHS\n",
    "\n",
    "# Crear el modelo de optimización\n",
    "model = Model(HiGHS.Optimizer)\n",
    "\n",
    "# Variables de generación\n",
    "@variable(model, 0 <= gen[g in generators.name] <= generators.capacity[findfirst(x -> x == g, generators.name)])\n",
    "\n",
    "# Variables de flujo de potencia en las ramas\n",
    "@variable(model, -branches.capacity[findfirst(x -> x == b, branches.name)]<= branch_flow[b in branches.name] <= branches.capacity[findfirst(x -> x == b, branches.name)])\n"
   ]
  },
  {
   "cell_type": "markdown",
   "metadata": {},
   "source": [
    "### Restricciones de Balance"
   ]
  },
  {
   "cell_type": "code",
   "execution_count": 14,
   "metadata": {},
   "outputs": [
    {
     "name": "stdout",
     "output_type": "stream",
     "text": [
      "Feasibility\n",
      "Subject to\n",
      " gen[A] + gen[GF1] - branch_flow[AB] == 2000\n",
      " gen[B] + gen[GF2] + branch_flow[AB] == 1000\n",
      " gen[A] >= 0\n",
      " gen[B] >= 0\n",
      " gen[GF1] >= 0\n",
      " gen[GF2] >= 0\n",
      " branch_flow[AB] >= -230\n",
      " gen[A] <= 775\n",
      " gen[B] <= 2300\n",
      " gen[GF1] <= 99999\n",
      " gen[GF2] <= 99999\n",
      " branch_flow[AB] <= 230\n"
     ]
    }
   ],
   "source": [
    "balance = Dict()\n",
    "balance[\"A\"] = @constraint(model, gen[\"A\"]-branch_flow[\"AB\"]+gen[\"GF1\"]== demand.value[findfirst(x->x==\"A\",demand.bus)])\n",
    "balance[\"B\"] = @constraint(model, gen[\"B\"]+branch_flow[\"AB\"]+gen[\"GF2\"] == demand.value[findfirst(x->x==\"B\",demand.bus)])\n",
    "print(model)"
   ]
  },
  {
   "cell_type": "markdown",
   "metadata": {},
   "source": [
    "### Optimización"
   ]
  },
  {
   "cell_type": "code",
   "execution_count": 15,
   "metadata": {},
   "outputs": [
    {
     "data": {
      "text/latex": [
       "$ 0.025 gen_{A}^2 + 0.035 gen_{B}^2 + 23 gen_{B} + 5000 gen_{GF1} + 5000 gen_{GF2} $"
      ],
      "text/plain": [
       "0.025 gen[A]² + 0.035 gen[B]² + 23 gen[B] + 5000 gen[GF1] + 5000 gen[GF2]"
      ]
     },
     "metadata": {},
     "output_type": "display_data"
    }
   ],
   "source": [
    "function CT(A0, A1, PA) #Función de computo de costo total\n",
    "    A0*PA + 0.5*A1*PA^2\n",
    "end\n",
    "VOLL=5000\n",
    "@objective(model, Min, CT(a0,a1,gen[\"A\"])+CT(b0,b1,gen[\"B\"])+VOLL*gen[\"GF1\"]+VOLL*gen[\"GF2\"])\n"
   ]
  },
  {
   "cell_type": "code",
   "execution_count": 16,
   "metadata": {},
   "outputs": [
    {
     "name": "stdout",
     "output_type": "stream",
     "text": [
      "Running HiGHS 1.7.0 (git hash: 50670fd4c): Copyright (c) 2024 HiGHS under MIT licence terms\n",
      "Coefficient ranges:\n",
      "  Matrix [1e+00, 1e+00]\n",
      "  Cost   [2e+01, 5e+03]\n",
      "  Bound  [2e+02, 1e+05]\n",
      "  RHS    [1e+03, 2e+03]\n",
      "Iteration, Runtime, ObjVal, NullspaceDim\n",
      "0, 0.013104, 8931241.734935, 0\n",
      "2, 0.013154, 5071257.282822, 0\n",
      "Model   status      : Optimal\n",
      "Objective value     :  5.0712571250e+06\n",
      "HiGHS run time      :          0.01\n"
     ]
    },
    {
     "data": {
      "text/plain": [
       "CM (generic function with 1 method)"
      ]
     },
     "metadata": {},
     "output_type": "display_data"
    }
   ],
   "source": [
    "optimize!(model)\n",
    "has_duals(model)\n",
    "function CM(A0, A1, PA)\n",
    "    A0+A1*PA\n",
    "end\n"
   ]
  },
  {
   "cell_type": "code",
   "execution_count": 17,
   "metadata": {},
   "outputs": [],
   "source": [
    "using LaTeXStrings, Latexify, Symbolics"
   ]
  },
  {
   "cell_type": "markdown",
   "metadata": {},
   "source": [
    "## Modelo"
   ]
  },
  {
   "cell_type": "code",
   "execution_count": 18,
   "metadata": {},
   "outputs": [
    {
     "name": "stdout",
     "output_type": "stream",
     "text": [
      "Min 0.025 gen[A]² + 0.035 gen[B]² + 23 gen[B] + 5000 gen[GF1] + 5000 gen[GF2]\n",
      "Subject to\n",
      " gen[A] + gen[GF1] - branch_flow[AB] == 2000\n",
      " gen[B] + gen[GF2] + branch_flow[AB] == 1000\n",
      " gen[A] >= 0\n",
      " gen[B] >= 0\n",
      " gen[GF1] >= 0\n",
      " gen[GF2] >= 0\n",
      " branch_flow[AB] >= -230\n",
      " gen[A] <= 775\n",
      " gen[B] <= 2300\n",
      " gen[GF1] <= 99999\n",
      " gen[GF2] <= 99999\n",
      " branch_flow[AB] <= 230\n"
     ]
    }
   ],
   "source": [
    "print(model)"
   ]
  },
  {
   "cell_type": "markdown",
   "metadata": {},
   "source": [
    "## Results"
   ]
  },
  {
   "cell_type": "markdown",
   "metadata": {},
   "source": [
    "### Power"
   ]
  },
  {
   "cell_type": "code",
   "execution_count": 19,
   "metadata": {},
   "outputs": [
    {
     "name": "stdout",
     "output_type": "stream",
     "text": [
      "Generator A: 775.0 MW\n",
      "Generator B: 1230.0 MW\n",
      "Generator GF1: 995.0 MW\n",
      "Generator GF2: 0.0 MW\n"
     ]
    }
   ],
   "source": [
    "for g in generators.name\n",
    "    println(\"Generator $g: \", value(gen[g]), \" MW\")\n",
    "    end"
   ]
  },
  {
   "cell_type": "markdown",
   "metadata": {},
   "source": [
    "### Branch Flow"
   ]
  },
  {
   "cell_type": "code",
   "execution_count": 20,
   "metadata": {},
   "outputs": [
    {
     "name": "stdout",
     "output_type": "stream",
     "text": [
      "Flow Branch A-B: -230.0 MW\n"
     ]
    }
   ],
   "source": [
    "println(\"Flow Branch A-B: \", value(branch_flow[\"AB\"]), \" MW\")"
   ]
  },
  {
   "cell_type": "markdown",
   "metadata": {},
   "source": [
    "### Nodal Prices"
   ]
  },
  {
   "cell_type": "code",
   "execution_count": 21,
   "metadata": {},
   "outputs": [
    {
     "name": "stdout",
     "output_type": "stream",
     "text": [
      "\n",
      "Precios nodales:\n",
      "Precio nodal en nodo A: 5000.0 USD/MWh\n",
      "Precio nodal en nodo B: 109.1 USD/MWh\n"
     ]
    }
   ],
   "source": [
    "println(\"\\nPrecios nodales:\")\n",
    "λ=DataFrame(PM=zeros(length(Buses)))\n",
    "for node in Buses \n",
    "    λ.PM[findfirst(x-> x == node, Buses)]= dual(balance[node])\n",
    "    println(\"Precio nodal en nodo $node: \", round(λ.PM[findfirst(x-> x == node, Buses)];digits=2), \" USD/MWh\") \n",
    "end\n"
   ]
  },
  {
   "cell_type": "markdown",
   "metadata": {},
   "source": [
    "### Ingresos Generadores & Pago de Demandas"
   ]
  },
  {
   "cell_type": "code",
   "execution_count": 22,
   "metadata": {},
   "outputs": [
    {
     "name": "stdout",
     "output_type": "stream",
     "text": [
      "\u001b[1m2×2 DataFrame\u001b[0m\n",
      "\u001b[1m Row \u001b[0m│\u001b[1m IG           \u001b[0m\u001b[1m PD         \u001b[0m\n",
      "     │\u001b[90m Float64      \u001b[0m\u001b[90m Float64    \u001b[0m\n",
      "─────┼──────────────────────────\n",
      "   1 │      3.875e6       1.0e7\n",
      "   2 │ 134193.0      109100.0\n"
     ]
    }
   ],
   "source": [
    "FlujoDinero=DataFrame(IG=zeros(length(Buses)),PD=zeros(length(Buses)))\n",
    "\n",
    "for gene in Buses\n",
    "    FlujoDinero.IG[findfirst(x-> x == gene, Buses)]= round(value(gen[gene]* λ.PM[findfirst(x-> x == gene, Buses)]);digits=0)\n",
    "    FlujoDinero.PD[findfirst(x-> x == gene, Buses)]= round(demand.value[findfirst(x-> x == gene, Buses)]* λ.PM[findfirst(x-> x == gene, Buses)];digits=0)\n",
    "end\n",
    "println(FlujoDinero)"
   ]
  },
  {
   "cell_type": "markdown",
   "metadata": {},
   "source": [
    "## Resultados Casos"
   ]
  },
  {
   "cell_type": "code",
   "execution_count": 23,
   "metadata": {},
   "outputs": [
    {
     "name": "stdout",
     "output_type": "stream",
     "text": [
      "Running HiGHS 1.7.0 (git hash: 50670fd4c): Copyright (c) 2024 HiGHS under MIT licence terms\n",
      "Coefficient ranges:\n",
      "  Matrix [1e+00, 1e+00]\n",
      "  Cost   [2e+01, 5e+03]\n",
      "  Bound  [1e+05, 1e+06]\n",
      "  RHS    [1e+03, 2e+03]\n",
      "Iteration, Runtime, ObjVal, NullspaceDim\n",
      "0, 0.000233, 158000.250000, 0\n",
      "1, 0.000242, 158000.250000, 0\n",
      "Model   status      : Optimal\n",
      "Objective value     :  1.5800000000e+05\n",
      "HiGHS run time      :          0.00\n",
      "Running HiGHS 1.7.0 (git hash: 50670fd4c): Copyright (c) 2024 HiGHS under MIT licence terms\n",
      "Coefficient ranges:\n",
      "  Matrix [1e+00, 1e+00]\n",
      "  Cost   [2e+01, 5e+03]\n",
      "  Bound  [1e+05, 1e+06]\n",
      "  RHS    [1e+03, 2e+03]\n",
      "Iteration, Runtime, ObjVal, NullspaceDim\n",
      "0, 0.000297, 225000.500000, 0\n",
      "3, 0.000328, 157796.078010, 1\n",
      "Model   status      : Optimal\n",
      "Objective value     :  1.5779583333e+05\n",
      "HiGHS run time      :          0.00\n",
      "Running HiGHS 1.7.0 (git hash: 50670fd4c): Copyright (c) 2024 HiGHS under MIT licence terms\n",
      "Coefficient ranges:\n",
      "  Matrix [1e+00, 1e+00]\n",
      "  Cost   [2e+01, 5e+03]\n",
      "  Bound  [2e+03, 1e+06]\n",
      "  RHS    [1e+03, 2e+03]\n",
      "Iteration, Runtime, ObjVal, NullspaceDim\n",
      "0, 0.000240, 225000.500000, 0\n",
      "3, 0.000263, 157796.078010, 1\n",
      "Model   status      : Optimal\n",
      "Objective value     :  1.5779583333e+05\n",
      "HiGHS run time      :          0.00\n",
      "Running HiGHS 1.7.0 (git hash: 50670fd4c): Copyright (c) 2024 HiGHS under MIT licence terms\n",
      "Coefficient ranges:\n",
      "  Matrix [1e+00, 1e+00]\n",
      "  Cost   [2e+01, 5e+03]\n",
      "  Bound  [8e+02, 1e+06]\n",
      "  RHS    [1e+03, 2e+03]\n",
      "Iteration, Runtime, ObjVal, NullspaceDim\n",
      "0, 0.000244, 15000000.500000, 0\n",
      "3, 0.000269, 239462.852594, 0\n",
      "Model   status      : Optimal\n",
      "Objective value     :  2.3946250000e+05\n",
      "HiGHS run time      :          0.00\n",
      "Running HiGHS 1.7.0 (git hash: 50670fd4c): Copyright (c) 2024 HiGHS under MIT licence terms\n",
      "Coefficient ranges:\n",
      "  Matrix [1e+00, 1e+00]\n",
      "  Cost   [2e+01, 5e+03]\n",
      "  Bound  [2e+02, 1e+05]\n",
      "  RHS    [1e+03, 2e+03]\n",
      "Iteration, Runtime, ObjVal, NullspaceDim\n",
      "0, 0.000239, 8931241.734935, 0\n",
      "2, 0.000251, 5071257.282822, 0\n",
      "Model   status      : Optimal\n",
      "Objective value     :  5.0712571250e+06\n",
      "HiGHS run time      :          0.00\n",
      "Min 0.025 gen[A]² + 0.035 gen[B]² + 23 gen[B] + 5000 gen[GF1] + 5000 gen[GF2]\n",
      "Subject to\n",
      " gen[A] + gen[GF1] - branch_flow[AB] == 2000\n",
      " gen[B] + gen[GF2] + branch_flow[AB] == 1000\n",
      " gen[A] >= 0\n",
      " gen[B] >= 0\n",
      " gen[GF1] >= 0\n",
      " gen[GF2] >= 0\n",
      " branch_flow[AB] >= -230\n",
      " gen[A] <= 775\n",
      " gen[B] <= 2300\n",
      " gen[GF1] <= 99999\n",
      " gen[GF2] <= 99999\n",
      " branch_flow[AB] <= 230\n",
      "\n",
      "\u001b[0m\u001b[1m2×5 DataFrame\u001b[0m\n",
      "\u001b[0m\u001b[1m Row \u001b[0m│\u001b[1m c1       \u001b[0m\u001b[1m c2      \u001b[0m\u001b[1m c3      \u001b[0m\u001b[1m c4      \u001b[0m\u001b[1m c5      \u001b[0m\n",
      "\u001b[0m     │\u001b[90m Float64  \u001b[0m\u001b[90m Float64 \u001b[0m\u001b[90m Float64 \u001b[0m\u001b[90m Float64 \u001b[0m\u001b[90m Float64 \u001b[0m\n",
      "\u001b[0m─────┼──────────────────────────────────────────────\n",
      "\u001b[0m   1 │ 100.0     97.0835  97.0835   178.75   5000.0\n",
      "\u001b[0m   2 │  93.0001  97.0835  97.0835   178.75    109.1\u001b[0m\u001b[1m2×5 DataFrame\u001b[0m\n",
      "\u001b[0m\u001b[1m Row \u001b[0m│\u001b[1m c1      \u001b[0m\u001b[1m c2      \u001b[0m\u001b[1m c3      \u001b[0m\u001b[1m c4      \u001b[0m\u001b[1m c5      \u001b[0m\n",
      "\u001b[0m     │\u001b[90m Float64 \u001b[0m\u001b[90m Float64 \u001b[0m\u001b[90m Float64 \u001b[0m\u001b[90m Float64 \u001b[0m\u001b[90m Float64 \u001b[0m\n",
      "\u001b[0m─────┼─────────────────────────────────────────────\n",
      "\u001b[0m   1 │  2000.0  1941.67  1941.67    775.0    775.0\n",
      "\u001b[0m   2 │  1000.0  1058.33  1058.33   2225.0   1230.0\u001b[0m\u001b[1m2×10 DataFrame\u001b[0m\n",
      "\u001b[0m\u001b[1m Row \u001b[0m│\u001b[1m IG_c1    \u001b[0m\u001b[1m PD_c1    \u001b[0m\u001b[1m IG_c2    \u001b[0m\u001b[1m PD_c2    \u001b[0m\u001b[1m IG_c3    \u001b[0m\u001b[1m PD_c3    \u001b[0m\u001b[1m IG_c4    \u001b[0m\u001b[1m PD_c4    \u001b[0m\u001b[1m IG_c5        \u001b[0m\u001b[1m PD_c5      \u001b[0m\n",
      "\u001b[0m     │\u001b[90m Float64  \u001b[0m\u001b[90m Float64  \u001b[0m\u001b[90m Float64  \u001b[0m\u001b[90m Float64  \u001b[0m\u001b[90m Float64  \u001b[0m\u001b[90m Float64  \u001b[0m\u001b[90m Float64  \u001b[0m\u001b[90m Float64  \u001b[0m\u001b[90m Float64      \u001b[0m\u001b[90m Float64    \u001b[0m\n",
      "\u001b[0m─────┼──────────────────────────────────────────────────────────────────────────────────────────────────────────\n",
      "\u001b[0m   1 │ 200000.0  200000.0  188504.0  194167.0  188504.0  194167.0  138532.0  357501.0       3.875e6       1.0e7\n",
      "\u001b[0m   2 │  93000.0   93000.0  102747.0   97083.0  102747.0   97083.0  397719.0  178750.0  134193.0      109100.0\u001b[0m\u001b[1m1×5 DataFrame\u001b[0m\n",
      "\u001b[0m\u001b[1m Row \u001b[0m│\u001b[1m c1      \u001b[0m\u001b[1m c2      \u001b[0m\u001b[1m c3      \u001b[0m\u001b[1m c4      \u001b[0m\u001b[1m c5      \u001b[0m\n",
      "\u001b[0m     │\u001b[90m Float64 \u001b[0m\u001b[90m Float64 \u001b[0m\u001b[90m Float64 \u001b[0m\u001b[90m Float64 \u001b[0m\u001b[90m Float64 \u001b[0m\n",
      "\u001b[0m─────┼─────────────────────────────────────────────\n",
      "\u001b[0m   1 │     0.0  -58.334  -58.334  -1225.0   -230.0"
     ]
    }
   ],
   "source": [
    "Precios=DataFrame(c1=zeros(length(Buses)),\n",
    "                c2=zeros(length(Buses)),\n",
    "                c3=zeros(length(Buses)),\n",
    "                c4=zeros(length(Buses)),\n",
    "                c5=zeros(length(Buses)))\n",
    "Generacion=DataFrame(c1=zeros(length(Buses)),\n",
    "                c2=zeros(length(Buses)),\n",
    "                c3=zeros(length(Buses)),\n",
    "                c4=zeros(length(Buses)),\n",
    "                c5=zeros(length(Buses)))\n",
    "Flujos=DataFrame(c1=zeros(1),\n",
    "                c2=zeros(1),\n",
    "                c3=zeros(1),\n",
    "                c4=zeros(1),\n",
    "                c5=zeros(1))\n",
    "FD=DataFrame(IG_c1=zeros(length(Buses)), PD_c1=zeros(length(Buses)),\n",
    "            IG_c2=zeros(length(Buses)), PD_c2=zeros(length(Buses)),\n",
    "            IG_c3=zeros(length(Buses)), PD_c3=zeros(length(Buses)),\n",
    "            IG_c4=zeros(length(Buses)), PD_c4=zeros(length(Buses)),\n",
    "            IG_c5=zeros(length(Buses)), PD_c5=zeros(length(Buses)))\n",
    "\n",
    "function modelo(branches, generators)\n",
    "    # Crear el modelo de optimización\n",
    "    modeln = Model(HiGHS.Optimizer)\n",
    "    # Variables de generación\n",
    "    @variable(modeln, 0 <= gen[g in generators.name] <= generators.capacity[findfirst(x -> x == g, generators.name)])\n",
    "    # Variables de flujo de potencia en las ramas\n",
    "    @variable(modeln, -branches.capacity[findfirst(x -> x == b, branches.name)]<= branch_flow[b in branches.name] <= branches.capacity[findfirst(x -> x == b, branches.name)])\n",
    "    balancen = Dict()\n",
    "    balancen[\"A\"] = @constraint(modeln, gen[\"A\"]+gen[\"GF1\"]-branch_flow[\"AB\"] == demand.value[findfirst(x->x==\"A\",demand.bus)])\n",
    "    balancen[\"B\"] = @constraint(modeln, gen[\"B\"]+gen[\"GF2\"]+branch_flow[\"AB\"] == demand.value[findfirst(x->x==\"B\",demand.bus)])\n",
    "\n",
    "    function CT1(A0, A1, PA) #Función de computo de costo total\n",
    "      A0*PA + 0.5*A1*PA^2\n",
    "    end\n",
    "\n",
    "    @objective(modeln, Min, CT(a0,a1,gen[\"A\"])+CT(b0,b1,gen[\"B\"])+(VOLL*gen[\"GF1\"]+VOLL*gen[\"GF2\"]))\n",
    "    optimize!(modeln)\n",
    "    return modeln, gen, balancen, demand, branch_flow\n",
    "end\n",
    "\n",
    "for Case in [1,2,3,4,5]\n",
    "    if Case == 1\n",
    "    # Caso 1\n",
    "        branches.capacity[1] = 0\n",
    "        generators.capacity[1]= 999999\n",
    "        generators.capacity[2]= 999999\n",
    "        ## simulación\n",
    "        model1, gen, balance1, demand, branch_flow = modelo(branches, generators)\n",
    "        for nodes in Buses\n",
    "            Precios.c1[findfirst(x-> x == nodes, Buses)]= dual(balance1[nodes])\n",
    "            Generacion.c1[findfirst(x-> x == nodes, Buses)] = value(gen[nodes])       \n",
    "            FD.IG_c1[findfirst(x-> x == nodes, Buses)]= \n",
    "            round(value(gen[nodes]* Precios.c1[findfirst(x-> x == nodes, Buses)]);digits=0)\n",
    "            FD.PD_c1[findfirst(x-> x == nodes, Buses)]= \n",
    "            round(demand.value[findfirst(x-> x == nodes, Buses)]* Precios.c1[findfirst(x-> x == nodes, Buses)];digits=0)\n",
    "        end\n",
    "        Flujos.c1[1]=value(branch_flow[\"AB\"])\n",
    "    elseif Case == 2\n",
    "    # Caso 2\n",
    "        branches.capacity[1] = 999999\n",
    "        ## simulación\n",
    "        model2, gen, balance2, demand, branch_flow = modelo(branches, generators)\n",
    "        for nodes in Buses\n",
    "            Precios.c2[findfirst(x-> x == nodes, Buses)]= dual(balance2[nodes])\n",
    "            Generacion.c2[findfirst(x-> x == nodes, Buses)] = value(gen[nodes])       \n",
    "            FD.IG_c2[findfirst(x-> x == nodes, Buses)]= \n",
    "            round(value(gen[nodes]* Precios.c2[findfirst(x-> x == nodes, Buses)]);digits=0)\n",
    "            FD.PD_c2[findfirst(x-> x == nodes, Buses)]= \n",
    "            round(demand.value[findfirst(x-> x == nodes, Buses)]* Precios.c2[findfirst(x-> x == nodes, Buses)];digits=0)\n",
    "        end\n",
    "        Flujos.c2[1]=value(branch_flow[\"AB\"])\n",
    "    elseif Case==3\n",
    "    # # #Caso 3\n",
    "        generators.capacity[2]= VCI[1]*1000+VCI[2]*100+VCI[3]*10+VCI[4]\n",
    "         ## simulación\n",
    "         model3, gen, balance3, demand, branch_flow = modelo(branches, generators)\n",
    "         for nodes in Buses\n",
    "             Precios.c3[findfirst(x-> x == nodes, Buses)]= dual(balance3[nodes])\n",
    "             Generacion.c3[findfirst(x-> x == nodes, Buses)] = value(gen[nodes])       \n",
    "             FD.IG_c3[findfirst(x-> x == nodes, Buses)]= \n",
    "             round(value(gen[nodes]* Precios.c3[findfirst(x-> x == nodes, Buses)]);digits=0)\n",
    "             FD.PD_c3[findfirst(x-> x == nodes, Buses)]= \n",
    "             round(demand.value[findfirst(x-> x == nodes, Buses)]* Precios.c3[findfirst(x-> x == nodes, Buses)];digits=0)\n",
    "         end\n",
    "         Flujos.c3[1]=value(branch_flow[\"AB\"])\n",
    "    elseif Case==4\n",
    "    # # #Caso 4 \n",
    "        generators.capacity[1]= VCI[length(VCI)-2]*100+VCI[length(VCI)-1]*10+VCI[length(VCI)]\n",
    "        generators.capacity[2]= 999999\n",
    "        ## simulación\n",
    "        model4, gen, balance4, demand, branch_flow = modelo(branches, generators)\n",
    "        for nodes in Buses\n",
    "            Precios.c4[findfirst(x-> x == nodes, Buses)]= dual(balance4[nodes])\n",
    "            Generacion.c4[findfirst(x-> x == nodes, Buses)] = value(gen[nodes])       \n",
    "            FD.IG_c4[findfirst(x-> x == nodes, Buses)]= \n",
    "            round(value(gen[nodes]* Precios.c4[findfirst(x-> x == nodes, Buses)]);digits=0)\n",
    "            FD.PD_c4[findfirst(x-> x == nodes, Buses)]= \n",
    "            round(demand.value[findfirst(x-> x == nodes, Buses)]* Precios.c4[findfirst(x-> x == nodes, Buses)];digits=0)\n",
    "        end\n",
    "        Flujos.c4[1]=value(branch_flow[\"AB\"])\n",
    "    elseif Case==5\n",
    "    # Caso 5\n",
    "        #generators.capacity[1]= 999999\n",
    "        #generators.capacity[2]= 999999\n",
    "        generators.capacity[2]= VCI[1]*1000+VCI[2]*100+VCI[3]*10+VCI[4]\n",
    "        branches.capacity[1]= VCI[1]*100+VCI[2]*10+VCI[3]\n",
    "        model5, gen, balance5, demand, branch_flow = modelo(branches, generators)\n",
    "        println(model5)\n",
    "        for nodes in Buses\n",
    "            Precios.c5[findfirst(x-> x == nodes, Buses)]= dual(balance5[nodes])\n",
    "            Generacion.c5[findfirst(x-> x == nodes, Buses)] = value(gen[nodes])       \n",
    "            FD.IG_c5[findfirst(x-> x == nodes, Buses)]= \n",
    "            round(value(gen[nodes]* Precios.c5[findfirst(x-> x == nodes, Buses)]);digits=0)\n",
    "            FD.PD_c5[findfirst(x-> x == nodes, Buses)]= \n",
    "            round(demand.value[findfirst(x-> x == nodes, Buses)]* Precios.c5[findfirst(x-> x == nodes, Buses)];digits=0)\n",
    "        end\n",
    "        Flujos.c5[1]=value(branch_flow[\"AB\"])\n",
    "        \n",
    "    end\n",
    "end\n",
    "printstyled(Precios)\n",
    "printstyled(Generacion)\n",
    "printstyled(FD)\n",
    "printstyled(Flujos)"
   ]
  }
 ],
 "metadata": {
  "kernelspec": {
   "display_name": "Julia 1.10.3",
   "language": "julia",
   "name": "julia-1.10"
  },
  "language_info": {
   "file_extension": ".jl",
   "mimetype": "application/julia",
   "name": "julia",
   "version": "1.10.3"
  }
 },
 "nbformat": 4,
 "nbformat_minor": 2
}
